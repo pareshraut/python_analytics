{
 "cells": [
  {
   "cell_type": "markdown",
   "metadata": {},
   "source": [
    "# Python For Analytics (MScA 37014) | Exemption Test\n",
    "\n",
    "\n",
    "### Instructions\n",
    "\n",
    "* Do not hesitate to exercise your coding style and feel free to use python conventions if you are in the habit of doing so. \n",
    "* You may use online resources such as The Python Language Reference, stackoverflow, regex101 or any books at your disposal however you may not use another person's assistance in solving this test.  \n",
    "* The purpose of this test is to assess your knowledge and command of the Python programming language and your ability to resolve common errors. \n",
    "\n",
    "* The test has 4 principal questions that comprise 16 sub-sections collectively. \n",
    "* The test duration is 120 minutes. **When you are ready to submit your test please submit your answer sheet jupyter notebook to the canvas quiz page.** \n",
    "* when using jupyter notebook, you do not need to use the function `print()` like you would in python interpreter or in shell. Evaluating a cell prints out the outcome.\n",
    "\n",
    "* ### <u>After your submission please delete/remove the exam questions and datasets from your computer</u>. \n",
    "\n",
    "\n",
    "* **GRADING**: Your code should not have any errors, should only have the code answering the respective question and comments explaining the logical steps. Partial credit will be granted for work. Please show as much of the **thought process and code** as you can.\n",
    "\n",
    "\n",
    "* Good Luck"
   ]
  },
  {
   "cell_type": "markdown",
   "metadata": {},
   "source": [
    "&nbsp;\n",
    "\n",
    "&nbsp;\n",
    "\n",
    "## Question 1 [11]\n",
    "\n",
    "python containers"
   ]
  },
  {
   "cell_type": "markdown",
   "metadata": {},
   "source": [
    "### 1.1- [3]"
   ]
  },
  {
   "cell_type": "code",
   "execution_count": 1,
   "metadata": {},
   "outputs": [
    {
     "data": {
      "text/plain": [
       "array([-2.1       , -1.85555556, -1.61111111, -1.36666667, -1.12222222,\n",
       "       -0.87777778, -0.63333333, -0.38888889, -0.14444444,  0.1       ,\n",
       "        0.34444444,  0.58888889,  0.83333333,  1.07777778,  1.32222222,\n",
       "        1.56666667,  1.81111111,  2.05555556,  2.3       ])"
      ]
     },
     "execution_count": 1,
     "metadata": {},
     "output_type": "execute_result"
    }
   ],
   "source": [
    "#code and thought process here\n",
    "import numpy as np\n",
    "a_list = np.linspace(-2.1, 2.3, 19, float)\n",
    "a_list\n",
    "\n",
    "# I imported numpy library and used the linspace function to create an arrayList of specified range and number of evenly spoaced values between intervals specified\n"
   ]
  },
  {
   "cell_type": "markdown",
   "metadata": {},
   "source": [
    "### 1.2- [4] \n",
    "[2] bonus points if you do this in a single line of code using a list comprehension"
   ]
  },
  {
   "cell_type": "code",
   "execution_count": 3,
   "metadata": {},
   "outputs": [],
   "source": [
    "#Using the list comprehension method to create a list of cubed elements from a_list\n",
    "a_list_cubed = [float('%s' % float('%.4g' % x**3)) for x in a_list]"
   ]
  },
  {
   "cell_type": "code",
   "execution_count": 4,
   "metadata": {},
   "outputs": [
    {
     "data": {
      "text/plain": [
       "[-9.261,\n",
       " -6.389,\n",
       " -4.182,\n",
       " -2.553,\n",
       " -1.413,\n",
       " -0.6763,\n",
       " -0.254,\n",
       " -0.05881,\n",
       " -0.003014,\n",
       " 0.001,\n",
       " 0.04087,\n",
       " 0.2042,\n",
       " 0.5787,\n",
       " 1.252,\n",
       " 2.312,\n",
       " 3.845,\n",
       " 5.941,\n",
       " 8.685,\n",
       " 12.17]"
      ]
     },
     "execution_count": 4,
     "metadata": {},
     "output_type": "execute_result"
    }
   ],
   "source": [
    "a_list_cubed"
   ]
  },
  {
   "cell_type": "markdown",
   "metadata": {},
   "source": [
    "### 1.3- [4]\n"
   ]
  },
  {
   "cell_type": "code",
   "execution_count": 5,
   "metadata": {},
   "outputs": [
    {
     "data": {
      "text/plain": [
       "{-2.1: -9.261,\n",
       " -1.8555555555555556: -6.389,\n",
       " -1.6111111111111112: -4.182,\n",
       " -1.3666666666666667: -2.553,\n",
       " -1.1222222222222222: -1.413,\n",
       " -0.8777777777777778: -0.6763,\n",
       " -0.6333333333333333: -0.254,\n",
       " -0.38888888888888884: -0.05881,\n",
       " -0.14444444444444438: -0.003014,\n",
       " 0.10000000000000009: 0.001,\n",
       " 0.34444444444444455: 0.04087,\n",
       " 0.588888888888889: 0.2042,\n",
       " 0.8333333333333335: 0.5787,\n",
       " 1.077777777777778: 1.252,\n",
       " 1.3222222222222224: 2.312,\n",
       " 1.5666666666666669: 3.845,\n",
       " 1.8111111111111113: 5.941,\n",
       " 2.055555555555556: 8.685,\n",
       " 2.3: 12.17}"
      ]
     },
     "execution_count": 5,
     "metadata": {},
     "output_type": "execute_result"
    }
   ],
   "source": [
    "#Combining the above two lists with the elemnts of a_list as keys and elements of a_list_cubed as values using the comprehension methods used before \n",
    "\n",
    "combined_lists = {a_list[i]:a_list_cubed[i] for i in range(len(a_list))}\n",
    "combined_lists\n"
   ]
  },
  {
   "cell_type": "markdown",
   "metadata": {},
   "source": [
    "End of Question 1"
   ]
  },
  {
   "cell_type": "markdown",
   "metadata": {},
   "source": [
    "&nbsp;\n",
    "\n",
    "&nbsp;\n",
    "\n",
    "## Question 2 [47]\n"
   ]
  },
  {
   "cell_type": "markdown",
   "metadata": {},
   "source": [
    "&nbsp;\n",
    "\n",
    "### 2.1- [3]   "
   ]
  },
  {
   "cell_type": "code",
   "execution_count": 56,
   "metadata": {},
   "outputs": [],
   "source": [
    "#Reading the data sets using the .read function og the pandas library \n",
    "import pandas as pd\n",
    "employee = pd.read_csv('/Users/pareshraut/Desktop/Python/data/py_employees.csv',sep=';')\n",
    "feb_sales = pd.read_csv('/Users/pareshraut/Desktop/Python/data/py_feb_sales.csv', sep = ';')\n",
    "products = pd.read_csv('/Users/pareshraut/Desktop/Python/data/py_products.csv',sep = ';')"
   ]
  },
  {
   "cell_type": "markdown",
   "metadata": {},
   "source": [
    "&nbsp;\n",
    "\n",
    "### 2.2- [4]"
   ]
  },
  {
   "cell_type": "code",
   "execution_count": 57,
   "metadata": {},
   "outputs": [],
   "source": [
    "#First we use the to_datetime function to convert the date column to the date data type\n",
    "feb_sales['sales_date'] = pd.to_datetime(feb_sales['sales_date'])"
   ]
  },
  {
   "cell_type": "code",
   "execution_count": 58,
   "metadata": {},
   "outputs": [],
   "source": [
    "#extracting the day_name using the library datetime\n",
    "import datetime as dt\n",
    "feb_sales['feb_day'] = feb_sales['sales_date'].dt.day_name()"
   ]
  },
  {
   "cell_type": "code",
   "execution_count": 59,
   "metadata": {},
   "outputs": [
    {
     "data": {
      "text/html": [
       "<div>\n",
       "<style scoped>\n",
       "    .dataframe tbody tr th:only-of-type {\n",
       "        vertical-align: middle;\n",
       "    }\n",
       "\n",
       "    .dataframe tbody tr th {\n",
       "        vertical-align: top;\n",
       "    }\n",
       "\n",
       "    .dataframe thead th {\n",
       "        text-align: right;\n",
       "    }\n",
       "</style>\n",
       "<table border=\"1\" class=\"dataframe\">\n",
       "  <thead>\n",
       "    <tr style=\"text-align: right;\">\n",
       "      <th></th>\n",
       "      <th>employee_id</th>\n",
       "      <th>product_id</th>\n",
       "      <th>quantity</th>\n",
       "      <th>sales_date</th>\n",
       "      <th>feb_day</th>\n",
       "    </tr>\n",
       "  </thead>\n",
       "  <tbody>\n",
       "    <tr>\n",
       "      <th>0</th>\n",
       "      <td>22</td>\n",
       "      <td>162</td>\n",
       "      <td>8</td>\n",
       "      <td>2018-02-07</td>\n",
       "      <td>Wednesday</td>\n",
       "    </tr>\n",
       "    <tr>\n",
       "      <th>1</th>\n",
       "      <td>13</td>\n",
       "      <td>420</td>\n",
       "      <td>8</td>\n",
       "      <td>2018-02-06</td>\n",
       "      <td>Tuesday</td>\n",
       "    </tr>\n",
       "    <tr>\n",
       "      <th>2</th>\n",
       "      <td>7</td>\n",
       "      <td>304</td>\n",
       "      <td>6</td>\n",
       "      <td>2018-02-09</td>\n",
       "      <td>Friday</td>\n",
       "    </tr>\n",
       "    <tr>\n",
       "      <th>3</th>\n",
       "      <td>11</td>\n",
       "      <td>124</td>\n",
       "      <td>5</td>\n",
       "      <td>2018-02-25</td>\n",
       "      <td>Sunday</td>\n",
       "    </tr>\n",
       "    <tr>\n",
       "      <th>4</th>\n",
       "      <td>8</td>\n",
       "      <td>401</td>\n",
       "      <td>19</td>\n",
       "      <td>2018-02-13</td>\n",
       "      <td>Tuesday</td>\n",
       "    </tr>\n",
       "    <tr>\n",
       "      <th>...</th>\n",
       "      <td>...</td>\n",
       "      <td>...</td>\n",
       "      <td>...</td>\n",
       "      <td>...</td>\n",
       "      <td>...</td>\n",
       "    </tr>\n",
       "    <tr>\n",
       "      <th>289464</th>\n",
       "      <td>16</td>\n",
       "      <td>350</td>\n",
       "      <td>23</td>\n",
       "      <td>2018-02-24</td>\n",
       "      <td>Saturday</td>\n",
       "    </tr>\n",
       "    <tr>\n",
       "      <th>289465</th>\n",
       "      <td>22</td>\n",
       "      <td>293</td>\n",
       "      <td>6</td>\n",
       "      <td>2018-02-24</td>\n",
       "      <td>Saturday</td>\n",
       "    </tr>\n",
       "    <tr>\n",
       "      <th>289466</th>\n",
       "      <td>12</td>\n",
       "      <td>229</td>\n",
       "      <td>8</td>\n",
       "      <td>2018-02-18</td>\n",
       "      <td>Sunday</td>\n",
       "    </tr>\n",
       "    <tr>\n",
       "      <th>289467</th>\n",
       "      <td>1</td>\n",
       "      <td>447</td>\n",
       "      <td>21</td>\n",
       "      <td>2018-02-07</td>\n",
       "      <td>Wednesday</td>\n",
       "    </tr>\n",
       "    <tr>\n",
       "      <th>289468</th>\n",
       "      <td>23</td>\n",
       "      <td>336</td>\n",
       "      <td>23</td>\n",
       "      <td>2018-02-09</td>\n",
       "      <td>Friday</td>\n",
       "    </tr>\n",
       "  </tbody>\n",
       "</table>\n",
       "<p>289469 rows × 5 columns</p>\n",
       "</div>"
      ],
      "text/plain": [
       "        employee_id  product_id  quantity sales_date    feb_day\n",
       "0                22         162         8 2018-02-07  Wednesday\n",
       "1                13         420         8 2018-02-06    Tuesday\n",
       "2                 7         304         6 2018-02-09     Friday\n",
       "3                11         124         5 2018-02-25     Sunday\n",
       "4                 8         401        19 2018-02-13    Tuesday\n",
       "...             ...         ...       ...        ...        ...\n",
       "289464           16         350        23 2018-02-24   Saturday\n",
       "289465           22         293         6 2018-02-24   Saturday\n",
       "289466           12         229         8 2018-02-18     Sunday\n",
       "289467            1         447        21 2018-02-07  Wednesday\n",
       "289468           23         336        23 2018-02-09     Friday\n",
       "\n",
       "[289469 rows x 5 columns]"
      ]
     },
     "execution_count": 59,
     "metadata": {},
     "output_type": "execute_result"
    }
   ],
   "source": [
    "feb_sales"
   ]
  },
  {
   "cell_type": "markdown",
   "metadata": {},
   "source": [
    "&nbsp;\n",
    "\n",
    "### 2.3- [3]\n"
   ]
  },
  {
   "cell_type": "code",
   "execution_count": 60,
   "metadata": {},
   "outputs": [],
   "source": [
    "#dropping the sales_date column from the sales table but copying it before that so we don't loose data for later calculation \n",
    "feb_sales_drop = feb_sales.copy()\n",
    "feb_sales_drop.drop(['sales_date'], axis=1,inplace=True)\n"
   ]
  },
  {
   "cell_type": "code",
   "execution_count": 61,
   "metadata": {},
   "outputs": [
    {
     "data": {
      "text/html": [
       "<div>\n",
       "<style scoped>\n",
       "    .dataframe tbody tr th:only-of-type {\n",
       "        vertical-align: middle;\n",
       "    }\n",
       "\n",
       "    .dataframe tbody tr th {\n",
       "        vertical-align: top;\n",
       "    }\n",
       "\n",
       "    .dataframe thead th {\n",
       "        text-align: right;\n",
       "    }\n",
       "</style>\n",
       "<table border=\"1\" class=\"dataframe\">\n",
       "  <thead>\n",
       "    <tr style=\"text-align: right;\">\n",
       "      <th></th>\n",
       "      <th>employee_id</th>\n",
       "      <th>product_id</th>\n",
       "      <th>quantity</th>\n",
       "      <th>feb_day</th>\n",
       "    </tr>\n",
       "  </thead>\n",
       "  <tbody>\n",
       "    <tr>\n",
       "      <th>0</th>\n",
       "      <td>22</td>\n",
       "      <td>162</td>\n",
       "      <td>8</td>\n",
       "      <td>Wednesday</td>\n",
       "    </tr>\n",
       "    <tr>\n",
       "      <th>1</th>\n",
       "      <td>13</td>\n",
       "      <td>420</td>\n",
       "      <td>8</td>\n",
       "      <td>Tuesday</td>\n",
       "    </tr>\n",
       "    <tr>\n",
       "      <th>2</th>\n",
       "      <td>7</td>\n",
       "      <td>304</td>\n",
       "      <td>6</td>\n",
       "      <td>Friday</td>\n",
       "    </tr>\n",
       "    <tr>\n",
       "      <th>3</th>\n",
       "      <td>11</td>\n",
       "      <td>124</td>\n",
       "      <td>5</td>\n",
       "      <td>Sunday</td>\n",
       "    </tr>\n",
       "    <tr>\n",
       "      <th>4</th>\n",
       "      <td>8</td>\n",
       "      <td>401</td>\n",
       "      <td>19</td>\n",
       "      <td>Tuesday</td>\n",
       "    </tr>\n",
       "    <tr>\n",
       "      <th>...</th>\n",
       "      <td>...</td>\n",
       "      <td>...</td>\n",
       "      <td>...</td>\n",
       "      <td>...</td>\n",
       "    </tr>\n",
       "    <tr>\n",
       "      <th>289464</th>\n",
       "      <td>16</td>\n",
       "      <td>350</td>\n",
       "      <td>23</td>\n",
       "      <td>Saturday</td>\n",
       "    </tr>\n",
       "    <tr>\n",
       "      <th>289465</th>\n",
       "      <td>22</td>\n",
       "      <td>293</td>\n",
       "      <td>6</td>\n",
       "      <td>Saturday</td>\n",
       "    </tr>\n",
       "    <tr>\n",
       "      <th>289466</th>\n",
       "      <td>12</td>\n",
       "      <td>229</td>\n",
       "      <td>8</td>\n",
       "      <td>Sunday</td>\n",
       "    </tr>\n",
       "    <tr>\n",
       "      <th>289467</th>\n",
       "      <td>1</td>\n",
       "      <td>447</td>\n",
       "      <td>21</td>\n",
       "      <td>Wednesday</td>\n",
       "    </tr>\n",
       "    <tr>\n",
       "      <th>289468</th>\n",
       "      <td>23</td>\n",
       "      <td>336</td>\n",
       "      <td>23</td>\n",
       "      <td>Friday</td>\n",
       "    </tr>\n",
       "  </tbody>\n",
       "</table>\n",
       "<p>289469 rows × 4 columns</p>\n",
       "</div>"
      ],
      "text/plain": [
       "        employee_id  product_id  quantity    feb_day\n",
       "0                22         162         8  Wednesday\n",
       "1                13         420         8    Tuesday\n",
       "2                 7         304         6     Friday\n",
       "3                11         124         5     Sunday\n",
       "4                 8         401        19    Tuesday\n",
       "...             ...         ...       ...        ...\n",
       "289464           16         350        23   Saturday\n",
       "289465           22         293         6   Saturday\n",
       "289466           12         229         8     Sunday\n",
       "289467            1         447        21  Wednesday\n",
       "289468           23         336        23     Friday\n",
       "\n",
       "[289469 rows x 4 columns]"
      ]
     },
     "execution_count": 61,
     "metadata": {},
     "output_type": "execute_result"
    }
   ],
   "source": [
    "feb_sales_drop"
   ]
  },
  {
   "cell_type": "markdown",
   "metadata": {},
   "source": [
    "&nbsp;\n",
    "\n",
    "### 2.4-  [7]\n"
   ]
  },
  {
   "cell_type": "code",
   "execution_count": 62,
   "metadata": {},
   "outputs": [
    {
     "data": {
      "text/html": [
       "<div>\n",
       "<style scoped>\n",
       "    .dataframe tbody tr th:only-of-type {\n",
       "        vertical-align: middle;\n",
       "    }\n",
       "\n",
       "    .dataframe tbody tr th {\n",
       "        vertical-align: top;\n",
       "    }\n",
       "\n",
       "    .dataframe thead th {\n",
       "        text-align: right;\n",
       "    }\n",
       "</style>\n",
       "<table border=\"1\" class=\"dataframe\">\n",
       "  <thead>\n",
       "    <tr style=\"text-align: right;\">\n",
       "      <th></th>\n",
       "      <th>product_id</th>\n",
       "      <th>product_name</th>\n",
       "      <th>price</th>\n",
       "      <th>category</th>\n",
       "    </tr>\n",
       "  </thead>\n",
       "  <tbody>\n",
       "    <tr>\n",
       "      <th>30</th>\n",
       "      <td>269</td>\n",
       "      <td>Wine - Blue Nun Qualitatswein</td>\n",
       "      <td>26.706</td>\n",
       "      <td>Beverages</td>\n",
       "    </tr>\n",
       "    <tr>\n",
       "      <th>31</th>\n",
       "      <td>141</td>\n",
       "      <td>Tea - Herbal Sweet Dreams</td>\n",
       "      <td>10.964</td>\n",
       "      <td>Beverages</td>\n",
       "    </tr>\n",
       "    <tr>\n",
       "      <th>32</th>\n",
       "      <td>88</td>\n",
       "      <td>Remy Red</td>\n",
       "      <td>91.996</td>\n",
       "      <td>Beverages</td>\n",
       "    </tr>\n",
       "    <tr>\n",
       "      <th>33</th>\n",
       "      <td>138</td>\n",
       "      <td>Rum - Coconut, Malibu</td>\n",
       "      <td>52.6367</td>\n",
       "      <td>Beverages</td>\n",
       "    </tr>\n",
       "    <tr>\n",
       "      <th>34</th>\n",
       "      <td>87</td>\n",
       "      <td>Wine - Pinot Noir Latour</td>\n",
       "      <td>3.7847</td>\n",
       "      <td>Beverages</td>\n",
       "    </tr>\n",
       "    <tr>\n",
       "      <th>35</th>\n",
       "      <td>240</td>\n",
       "      <td>Wine - Chablis 2003 Champs</td>\n",
       "      <td>?</td>\n",
       "      <td>Beverages</td>\n",
       "    </tr>\n",
       "    <tr>\n",
       "      <th>36</th>\n",
       "      <td>247</td>\n",
       "      <td>Juice - Apple Cider</td>\n",
       "      <td>59.0033</td>\n",
       "      <td>Beverages</td>\n",
       "    </tr>\n",
       "    <tr>\n",
       "      <th>37</th>\n",
       "      <td>76</td>\n",
       "      <td>Wine - Fume Blanc Fetzer</td>\n",
       "      <td>?</td>\n",
       "      <td>Beverages</td>\n",
       "    </tr>\n",
       "    <tr>\n",
       "      <th>38</th>\n",
       "      <td>252</td>\n",
       "      <td>Nantucket - Pomegranate Pear</td>\n",
       "      <td>27.8169</td>\n",
       "      <td>Beverages</td>\n",
       "    </tr>\n",
       "    <tr>\n",
       "      <th>39</th>\n",
       "      <td>258</td>\n",
       "      <td>Tea - English Breakfast</td>\n",
       "      <td>31.0939</td>\n",
       "      <td>Beverages</td>\n",
       "    </tr>\n",
       "  </tbody>\n",
       "</table>\n",
       "</div>"
      ],
      "text/plain": [
       "    product_id                   product_name    price   category\n",
       "30         269  Wine - Blue Nun Qualitatswein   26.706  Beverages\n",
       "31         141      Tea - Herbal Sweet Dreams   10.964  Beverages\n",
       "32          88                       Remy Red   91.996  Beverages\n",
       "33         138          Rum - Coconut, Malibu  52.6367  Beverages\n",
       "34          87       Wine - Pinot Noir Latour   3.7847  Beverages\n",
       "35         240     Wine - Chablis 2003 Champs        ?  Beverages\n",
       "36         247            Juice - Apple Cider  59.0033  Beverages\n",
       "37          76       Wine - Fume Blanc Fetzer        ?  Beverages\n",
       "38         252   Nantucket - Pomegranate Pear  27.8169  Beverages\n",
       "39         258        Tea - English Breakfast  31.0939  Beverages"
      ]
     },
     "execution_count": 62,
     "metadata": {},
     "output_type": "execute_result"
    }
   ],
   "source": [
    "#Visualise the products table \n",
    "products[products.category == \"Beverages\"].head(10)"
   ]
  },
  {
   "cell_type": "code",
   "execution_count": 63,
   "metadata": {},
   "outputs": [],
   "source": [
    "#Imputing the '?' in the price column , we fisrt replace the '?' with nan values and then convert the price column to a float  \n",
    "products.loc[products[\"price\"] == \"?\", \"price\"] = np.nan\n",
    "products['price'] = pd.to_numeric(products['price'])\n"
   ]
  },
  {
   "cell_type": "code",
   "execution_count": 64,
   "metadata": {},
   "outputs": [
    {
     "data": {
      "text/plain": [
       "product_id        int64\n",
       "product_name     object\n",
       "price           float64\n",
       "category         object\n",
       "dtype: object"
      ]
     },
     "execution_count": 64,
     "metadata": {},
     "output_type": "execute_result"
    }
   ],
   "source": [
    "#validating that the data types are right\n",
    "products.dtypes"
   ]
  },
  {
   "cell_type": "code",
   "execution_count": 65,
   "metadata": {},
   "outputs": [],
   "source": [
    "#To calculate the mean only for the Beverage category data , I copied it into a different dataframe and computed mean \n",
    "# # data_new = products[products.category == \"Beverages\"].copy()\n",
    "# mean = data_new['price'].mean()\n",
    "# mean "
   ]
  },
  {
   "cell_type": "code",
   "execution_count": 66,
   "metadata": {},
   "outputs": [],
   "source": [
    "#I am filling the the nan values with the mean , for only the places which had '?' \n",
    "# products.fillna(mean)"
   ]
  },
  {
   "cell_type": "code",
   "execution_count": 67,
   "metadata": {},
   "outputs": [],
   "source": [
    "#To calculate the mean only for the Beverage category data i put a conditon for the same\n",
    "#I am filling the the nan values with the mean , for only the places which had '?' \n",
    "# products.fillna(mean)\n",
    "products['price'].fillna(products[products.category == \"Beverages\"]['price'].mean(), inplace=True)"
   ]
  },
  {
   "cell_type": "markdown",
   "metadata": {},
   "source": [
    "&nbsp;\n",
    "\n",
    "### 2.5- [8]  "
   ]
  },
  {
   "cell_type": "code",
   "execution_count": 68,
   "metadata": {},
   "outputs": [],
   "source": [
    "#To left join the products and the employees tables to the sales tables using the shared key columns between these two and sales, I used the merge fuction of the pd library.\n",
    "merged = feb_sales.merge(products, how='left').merge(employee, how='left')"
   ]
  },
  {
   "cell_type": "code",
   "execution_count": 69,
   "metadata": {},
   "outputs": [
    {
     "data": {
      "text/html": [
       "<div>\n",
       "<style scoped>\n",
       "    .dataframe tbody tr th:only-of-type {\n",
       "        vertical-align: middle;\n",
       "    }\n",
       "\n",
       "    .dataframe tbody tr th {\n",
       "        vertical-align: top;\n",
       "    }\n",
       "\n",
       "    .dataframe thead th {\n",
       "        text-align: right;\n",
       "    }\n",
       "</style>\n",
       "<table border=\"1\" class=\"dataframe\">\n",
       "  <thead>\n",
       "    <tr style=\"text-align: right;\">\n",
       "      <th></th>\n",
       "      <th>employee_id</th>\n",
       "      <th>product_id</th>\n",
       "      <th>quantity</th>\n",
       "      <th>sales_date</th>\n",
       "      <th>feb_day</th>\n",
       "      <th>product_name</th>\n",
       "      <th>price</th>\n",
       "      <th>category</th>\n",
       "      <th>empl_name</th>\n",
       "      <th>age</th>\n",
       "    </tr>\n",
       "  </thead>\n",
       "  <tbody>\n",
       "    <tr>\n",
       "      <th>0</th>\n",
       "      <td>22</td>\n",
       "      <td>162</td>\n",
       "      <td>8</td>\n",
       "      <td>2018-02-07</td>\n",
       "      <td>Wednesday</td>\n",
       "      <td>Sauce - Demi Glace</td>\n",
       "      <td>2.7353</td>\n",
       "      <td>Soup-Broth</td>\n",
       "      <td>Tonia O Mc Millan</td>\n",
       "      <td>67</td>\n",
       "    </tr>\n",
       "    <tr>\n",
       "      <th>1</th>\n",
       "      <td>13</td>\n",
       "      <td>420</td>\n",
       "      <td>8</td>\n",
       "      <td>2018-02-06</td>\n",
       "      <td>Tuesday</td>\n",
       "      <td>Whmis - Spray Bottle Trigger</td>\n",
       "      <td>69.9163</td>\n",
       "      <td>Household goods</td>\n",
       "      <td>Katina Y Marks</td>\n",
       "      <td>56</td>\n",
       "    </tr>\n",
       "    <tr>\n",
       "      <th>2</th>\n",
       "      <td>7</td>\n",
       "      <td>304</td>\n",
       "      <td>6</td>\n",
       "      <td>2018-02-09</td>\n",
       "      <td>Friday</td>\n",
       "      <td>Banana Turning</td>\n",
       "      <td>72.1984</td>\n",
       "      <td>Produce</td>\n",
       "      <td>Chadwick P Cook</td>\n",
       "      <td>49</td>\n",
       "    </tr>\n",
       "    <tr>\n",
       "      <th>3</th>\n",
       "      <td>11</td>\n",
       "      <td>124</td>\n",
       "      <td>5</td>\n",
       "      <td>2018-02-25</td>\n",
       "      <td>Sunday</td>\n",
       "      <td>Macaroons - Two Bite Choc</td>\n",
       "      <td>18.2891</td>\n",
       "      <td>Confections</td>\n",
       "      <td>Sonya E Dickson</td>\n",
       "      <td>43</td>\n",
       "    </tr>\n",
       "    <tr>\n",
       "      <th>4</th>\n",
       "      <td>8</td>\n",
       "      <td>401</td>\n",
       "      <td>19</td>\n",
       "      <td>2018-02-13</td>\n",
       "      <td>Tuesday</td>\n",
       "      <td>Tart Shells - Sweet, 4</td>\n",
       "      <td>53.3634</td>\n",
       "      <td>Confections</td>\n",
       "      <td>Julie E Dyer</td>\n",
       "      <td>63</td>\n",
       "    </tr>\n",
       "    <tr>\n",
       "      <th>...</th>\n",
       "      <td>...</td>\n",
       "      <td>...</td>\n",
       "      <td>...</td>\n",
       "      <td>...</td>\n",
       "      <td>...</td>\n",
       "      <td>...</td>\n",
       "      <td>...</td>\n",
       "      <td>...</td>\n",
       "      <td>...</td>\n",
       "      <td>...</td>\n",
       "    </tr>\n",
       "    <tr>\n",
       "      <th>289464</th>\n",
       "      <td>16</td>\n",
       "      <td>350</td>\n",
       "      <td>23</td>\n",
       "      <td>2018-02-24</td>\n",
       "      <td>Saturday</td>\n",
       "      <td>Isomalt</td>\n",
       "      <td>82.8300</td>\n",
       "      <td>Beverages</td>\n",
       "      <td>Chadwick U Walton</td>\n",
       "      <td>68</td>\n",
       "    </tr>\n",
       "    <tr>\n",
       "      <th>289465</th>\n",
       "      <td>22</td>\n",
       "      <td>293</td>\n",
       "      <td>6</td>\n",
       "      <td>2018-02-24</td>\n",
       "      <td>Saturday</td>\n",
       "      <td>Garlic - Elephant</td>\n",
       "      <td>60.9698</td>\n",
       "      <td>Produce</td>\n",
       "      <td>Tonia O Mc Millan</td>\n",
       "      <td>67</td>\n",
       "    </tr>\n",
       "    <tr>\n",
       "      <th>289466</th>\n",
       "      <td>12</td>\n",
       "      <td>229</td>\n",
       "      <td>8</td>\n",
       "      <td>2018-02-18</td>\n",
       "      <td>Sunday</td>\n",
       "      <td>Bread - Hot Dog Buns</td>\n",
       "      <td>57.9838</td>\n",
       "      <td>Baked-Baking</td>\n",
       "      <td>Lindsay M Chen</td>\n",
       "      <td>68</td>\n",
       "    </tr>\n",
       "    <tr>\n",
       "      <th>289467</th>\n",
       "      <td>1</td>\n",
       "      <td>447</td>\n",
       "      <td>21</td>\n",
       "      <td>2018-02-07</td>\n",
       "      <td>Wednesday</td>\n",
       "      <td>Salmon - Atlantic, Skin On</td>\n",
       "      <td>3.4198</td>\n",
       "      <td>Seafood</td>\n",
       "      <td>Nicole T Fuller</td>\n",
       "      <td>38</td>\n",
       "    </tr>\n",
       "    <tr>\n",
       "      <th>289468</th>\n",
       "      <td>23</td>\n",
       "      <td>336</td>\n",
       "      <td>23</td>\n",
       "      <td>2018-02-09</td>\n",
       "      <td>Friday</td>\n",
       "      <td>Broom - Corn</td>\n",
       "      <td>71.9241</td>\n",
       "      <td>Baked-Baking</td>\n",
       "      <td>Janet K Flowers</td>\n",
       "      <td>40</td>\n",
       "    </tr>\n",
       "  </tbody>\n",
       "</table>\n",
       "<p>289469 rows × 10 columns</p>\n",
       "</div>"
      ],
      "text/plain": [
       "        employee_id  product_id  quantity sales_date    feb_day  \\\n",
       "0                22         162         8 2018-02-07  Wednesday   \n",
       "1                13         420         8 2018-02-06    Tuesday   \n",
       "2                 7         304         6 2018-02-09     Friday   \n",
       "3                11         124         5 2018-02-25     Sunday   \n",
       "4                 8         401        19 2018-02-13    Tuesday   \n",
       "...             ...         ...       ...        ...        ...   \n",
       "289464           16         350        23 2018-02-24   Saturday   \n",
       "289465           22         293         6 2018-02-24   Saturday   \n",
       "289466           12         229         8 2018-02-18     Sunday   \n",
       "289467            1         447        21 2018-02-07  Wednesday   \n",
       "289468           23         336        23 2018-02-09     Friday   \n",
       "\n",
       "                        product_name    price         category  \\\n",
       "0                 Sauce - Demi Glace   2.7353       Soup-Broth   \n",
       "1       Whmis - Spray Bottle Trigger  69.9163  Household goods   \n",
       "2                     Banana Turning  72.1984          Produce   \n",
       "3          Macaroons - Two Bite Choc  18.2891      Confections   \n",
       "4             Tart Shells - Sweet, 4  53.3634      Confections   \n",
       "...                              ...      ...              ...   \n",
       "289464                       Isomalt  82.8300        Beverages   \n",
       "289465             Garlic - Elephant  60.9698          Produce   \n",
       "289466          Bread - Hot Dog Buns  57.9838     Baked-Baking   \n",
       "289467    Salmon - Atlantic, Skin On   3.4198          Seafood   \n",
       "289468                  Broom - Corn  71.9241     Baked-Baking   \n",
       "\n",
       "                empl_name  age  \n",
       "0       Tonia O Mc Millan   67  \n",
       "1          Katina Y Marks   56  \n",
       "2         Chadwick P Cook   49  \n",
       "3         Sonya E Dickson   43  \n",
       "4            Julie E Dyer   63  \n",
       "...                   ...  ...  \n",
       "289464  Chadwick U Walton   68  \n",
       "289465  Tonia O Mc Millan   67  \n",
       "289466     Lindsay M Chen   68  \n",
       "289467    Nicole T Fuller   38  \n",
       "289468    Janet K Flowers   40  \n",
       "\n",
       "[289469 rows x 10 columns]"
      ]
     },
     "execution_count": 69,
     "metadata": {},
     "output_type": "execute_result"
    }
   ],
   "source": [
    "#Validating the merged dataframe\n",
    "merged"
   ]
  },
  {
   "cell_type": "markdown",
   "metadata": {},
   "source": [
    "&nbsp;\n",
    "\n",
    "### 2.6- [3]"
   ]
  },
  {
   "cell_type": "code",
   "execution_count": 70,
   "metadata": {},
   "outputs": [],
   "source": [
    "#Dropping the columns employee_id and product_id using the drop function and keeping axis=1 \n",
    "merged.drop(['employee_id','product_id'], axis=1,inplace=True)\n"
   ]
  },
  {
   "cell_type": "markdown",
   "metadata": {},
   "source": [
    "&nbsp;\n",
    "\n",
    "### 2.7- [2]\n"
   ]
  },
  {
   "cell_type": "code",
   "execution_count": 71,
   "metadata": {},
   "outputs": [],
   "source": [
    "#Creating the revenue column by multiplying quantity and price\n",
    "merged['revenue'] = merged['quantity']*merged['price']"
   ]
  },
  {
   "cell_type": "code",
   "execution_count": 72,
   "metadata": {},
   "outputs": [
    {
     "data": {
      "text/html": [
       "<div>\n",
       "<style scoped>\n",
       "    .dataframe tbody tr th:only-of-type {\n",
       "        vertical-align: middle;\n",
       "    }\n",
       "\n",
       "    .dataframe tbody tr th {\n",
       "        vertical-align: top;\n",
       "    }\n",
       "\n",
       "    .dataframe thead th {\n",
       "        text-align: right;\n",
       "    }\n",
       "</style>\n",
       "<table border=\"1\" class=\"dataframe\">\n",
       "  <thead>\n",
       "    <tr style=\"text-align: right;\">\n",
       "      <th></th>\n",
       "      <th>quantity</th>\n",
       "      <th>sales_date</th>\n",
       "      <th>feb_day</th>\n",
       "      <th>product_name</th>\n",
       "      <th>price</th>\n",
       "      <th>category</th>\n",
       "      <th>empl_name</th>\n",
       "      <th>age</th>\n",
       "      <th>revenue</th>\n",
       "    </tr>\n",
       "  </thead>\n",
       "  <tbody>\n",
       "    <tr>\n",
       "      <th>0</th>\n",
       "      <td>8</td>\n",
       "      <td>2018-02-07</td>\n",
       "      <td>Wednesday</td>\n",
       "      <td>Sauce - Demi Glace</td>\n",
       "      <td>2.7353</td>\n",
       "      <td>Soup-Broth</td>\n",
       "      <td>Tonia O Mc Millan</td>\n",
       "      <td>67</td>\n",
       "      <td>21.8824</td>\n",
       "    </tr>\n",
       "    <tr>\n",
       "      <th>1</th>\n",
       "      <td>8</td>\n",
       "      <td>2018-02-06</td>\n",
       "      <td>Tuesday</td>\n",
       "      <td>Whmis - Spray Bottle Trigger</td>\n",
       "      <td>69.9163</td>\n",
       "      <td>Household goods</td>\n",
       "      <td>Katina Y Marks</td>\n",
       "      <td>56</td>\n",
       "      <td>559.3304</td>\n",
       "    </tr>\n",
       "    <tr>\n",
       "      <th>2</th>\n",
       "      <td>6</td>\n",
       "      <td>2018-02-09</td>\n",
       "      <td>Friday</td>\n",
       "      <td>Banana Turning</td>\n",
       "      <td>72.1984</td>\n",
       "      <td>Produce</td>\n",
       "      <td>Chadwick P Cook</td>\n",
       "      <td>49</td>\n",
       "      <td>433.1904</td>\n",
       "    </tr>\n",
       "    <tr>\n",
       "      <th>3</th>\n",
       "      <td>5</td>\n",
       "      <td>2018-02-25</td>\n",
       "      <td>Sunday</td>\n",
       "      <td>Macaroons - Two Bite Choc</td>\n",
       "      <td>18.2891</td>\n",
       "      <td>Confections</td>\n",
       "      <td>Sonya E Dickson</td>\n",
       "      <td>43</td>\n",
       "      <td>91.4455</td>\n",
       "    </tr>\n",
       "    <tr>\n",
       "      <th>4</th>\n",
       "      <td>19</td>\n",
       "      <td>2018-02-13</td>\n",
       "      <td>Tuesday</td>\n",
       "      <td>Tart Shells - Sweet, 4</td>\n",
       "      <td>53.3634</td>\n",
       "      <td>Confections</td>\n",
       "      <td>Julie E Dyer</td>\n",
       "      <td>63</td>\n",
       "      <td>1013.9046</td>\n",
       "    </tr>\n",
       "    <tr>\n",
       "      <th>...</th>\n",
       "      <td>...</td>\n",
       "      <td>...</td>\n",
       "      <td>...</td>\n",
       "      <td>...</td>\n",
       "      <td>...</td>\n",
       "      <td>...</td>\n",
       "      <td>...</td>\n",
       "      <td>...</td>\n",
       "      <td>...</td>\n",
       "    </tr>\n",
       "    <tr>\n",
       "      <th>289464</th>\n",
       "      <td>23</td>\n",
       "      <td>2018-02-24</td>\n",
       "      <td>Saturday</td>\n",
       "      <td>Isomalt</td>\n",
       "      <td>82.8300</td>\n",
       "      <td>Beverages</td>\n",
       "      <td>Chadwick U Walton</td>\n",
       "      <td>68</td>\n",
       "      <td>1905.0900</td>\n",
       "    </tr>\n",
       "    <tr>\n",
       "      <th>289465</th>\n",
       "      <td>6</td>\n",
       "      <td>2018-02-24</td>\n",
       "      <td>Saturday</td>\n",
       "      <td>Garlic - Elephant</td>\n",
       "      <td>60.9698</td>\n",
       "      <td>Produce</td>\n",
       "      <td>Tonia O Mc Millan</td>\n",
       "      <td>67</td>\n",
       "      <td>365.8188</td>\n",
       "    </tr>\n",
       "    <tr>\n",
       "      <th>289466</th>\n",
       "      <td>8</td>\n",
       "      <td>2018-02-18</td>\n",
       "      <td>Sunday</td>\n",
       "      <td>Bread - Hot Dog Buns</td>\n",
       "      <td>57.9838</td>\n",
       "      <td>Baked-Baking</td>\n",
       "      <td>Lindsay M Chen</td>\n",
       "      <td>68</td>\n",
       "      <td>463.8704</td>\n",
       "    </tr>\n",
       "    <tr>\n",
       "      <th>289467</th>\n",
       "      <td>21</td>\n",
       "      <td>2018-02-07</td>\n",
       "      <td>Wednesday</td>\n",
       "      <td>Salmon - Atlantic, Skin On</td>\n",
       "      <td>3.4198</td>\n",
       "      <td>Seafood</td>\n",
       "      <td>Nicole T Fuller</td>\n",
       "      <td>38</td>\n",
       "      <td>71.8158</td>\n",
       "    </tr>\n",
       "    <tr>\n",
       "      <th>289468</th>\n",
       "      <td>23</td>\n",
       "      <td>2018-02-09</td>\n",
       "      <td>Friday</td>\n",
       "      <td>Broom - Corn</td>\n",
       "      <td>71.9241</td>\n",
       "      <td>Baked-Baking</td>\n",
       "      <td>Janet K Flowers</td>\n",
       "      <td>40</td>\n",
       "      <td>1654.2543</td>\n",
       "    </tr>\n",
       "  </tbody>\n",
       "</table>\n",
       "<p>289469 rows × 9 columns</p>\n",
       "</div>"
      ],
      "text/plain": [
       "        quantity sales_date    feb_day                  product_name    price  \\\n",
       "0              8 2018-02-07  Wednesday            Sauce - Demi Glace   2.7353   \n",
       "1              8 2018-02-06    Tuesday  Whmis - Spray Bottle Trigger  69.9163   \n",
       "2              6 2018-02-09     Friday                Banana Turning  72.1984   \n",
       "3              5 2018-02-25     Sunday     Macaroons - Two Bite Choc  18.2891   \n",
       "4             19 2018-02-13    Tuesday        Tart Shells - Sweet, 4  53.3634   \n",
       "...          ...        ...        ...                           ...      ...   \n",
       "289464        23 2018-02-24   Saturday                       Isomalt  82.8300   \n",
       "289465         6 2018-02-24   Saturday             Garlic - Elephant  60.9698   \n",
       "289466         8 2018-02-18     Sunday          Bread - Hot Dog Buns  57.9838   \n",
       "289467        21 2018-02-07  Wednesday    Salmon - Atlantic, Skin On   3.4198   \n",
       "289468        23 2018-02-09     Friday                  Broom - Corn  71.9241   \n",
       "\n",
       "               category          empl_name  age    revenue  \n",
       "0            Soup-Broth  Tonia O Mc Millan   67    21.8824  \n",
       "1       Household goods     Katina Y Marks   56   559.3304  \n",
       "2               Produce    Chadwick P Cook   49   433.1904  \n",
       "3           Confections    Sonya E Dickson   43    91.4455  \n",
       "4           Confections       Julie E Dyer   63  1013.9046  \n",
       "...                 ...                ...  ...        ...  \n",
       "289464        Beverages  Chadwick U Walton   68  1905.0900  \n",
       "289465          Produce  Tonia O Mc Millan   67   365.8188  \n",
       "289466     Baked-Baking     Lindsay M Chen   68   463.8704  \n",
       "289467          Seafood    Nicole T Fuller   38    71.8158  \n",
       "289468     Baked-Baking    Janet K Flowers   40  1654.2543  \n",
       "\n",
       "[289469 rows x 9 columns]"
      ]
     },
     "execution_count": 72,
     "metadata": {},
     "output_type": "execute_result"
    }
   ],
   "source": [
    "#Validating \n",
    "merged"
   ]
  },
  {
   "cell_type": "code",
   "execution_count": 73,
   "metadata": {},
   "outputs": [
    {
     "data": {
      "text/plain": [
       "quantity                 int64\n",
       "sales_date      datetime64[ns]\n",
       "feb_day                 object\n",
       "product_name            object\n",
       "price                  float64\n",
       "category                object\n",
       "empl_name               object\n",
       "age                      int64\n",
       "revenue                float64\n",
       "dtype: object"
      ]
     },
     "execution_count": 73,
     "metadata": {},
     "output_type": "execute_result"
    }
   ],
   "source": [
    "merged.dtypes"
   ]
  },
  {
   "cell_type": "markdown",
   "metadata": {},
   "source": [
    "&nbsp;\n",
    "\n",
    "### 2.8- [6]"
   ]
  },
  {
   "cell_type": "code",
   "execution_count": 74,
   "metadata": {},
   "outputs": [],
   "source": [
    "#Just to make calculations easier i am adding a day column to extract on the day \n",
    "merged['feb_day'] = pd.DatetimeIndex(merged['sales_date']).day"
   ]
  },
  {
   "cell_type": "code",
   "execution_count": 75,
   "metadata": {},
   "outputs": [
    {
     "name": "stderr",
     "output_type": "stream",
     "text": [
      "/var/folders/pg/7f4h2bg13tb1tg1gxqxgg_n80000gn/T/ipykernel_31709/867690509.py:2: FutureWarning: The default value of numeric_only in DataFrameGroupBy.sum is deprecated. In a future version, numeric_only will default to False. Either specify numeric_only or select only columns which should be valid for the function.\n",
      "  merged.groupby('feb_day').sum().sort_values(by=['revenue'], ascending=False)\n"
     ]
    },
    {
     "data": {
      "text/html": [
       "<div>\n",
       "<style scoped>\n",
       "    .dataframe tbody tr th:only-of-type {\n",
       "        vertical-align: middle;\n",
       "    }\n",
       "\n",
       "    .dataframe tbody tr th {\n",
       "        vertical-align: top;\n",
       "    }\n",
       "\n",
       "    .dataframe thead th {\n",
       "        text-align: right;\n",
       "    }\n",
       "</style>\n",
       "<table border=\"1\" class=\"dataframe\">\n",
       "  <thead>\n",
       "    <tr style=\"text-align: right;\">\n",
       "      <th></th>\n",
       "      <th>quantity</th>\n",
       "      <th>price</th>\n",
       "      <th>age</th>\n",
       "      <th>revenue</th>\n",
       "    </tr>\n",
       "    <tr>\n",
       "      <th>feb_day</th>\n",
       "      <th></th>\n",
       "      <th></th>\n",
       "      <th></th>\n",
       "      <th></th>\n",
       "    </tr>\n",
       "  </thead>\n",
       "  <tbody>\n",
       "    <tr>\n",
       "      <th>17</th>\n",
       "      <td>137027</td>\n",
       "      <td>530475.022946</td>\n",
       "      <td>538100</td>\n",
       "      <td>6.940403e+06</td>\n",
       "    </tr>\n",
       "    <tr>\n",
       "      <th>12</th>\n",
       "      <td>135641</td>\n",
       "      <td>530605.582295</td>\n",
       "      <td>535424</td>\n",
       "      <td>6.934706e+06</td>\n",
       "    </tr>\n",
       "    <tr>\n",
       "      <th>19</th>\n",
       "      <td>135560</td>\n",
       "      <td>524490.935149</td>\n",
       "      <td>531767</td>\n",
       "      <td>6.900267e+06</td>\n",
       "    </tr>\n",
       "    <tr>\n",
       "      <th>22</th>\n",
       "      <td>136170</td>\n",
       "      <td>529586.278632</td>\n",
       "      <td>537302</td>\n",
       "      <td>6.891117e+06</td>\n",
       "    </tr>\n",
       "    <tr>\n",
       "      <th>13</th>\n",
       "      <td>134688</td>\n",
       "      <td>530620.462200</td>\n",
       "      <td>536967</td>\n",
       "      <td>6.882027e+06</td>\n",
       "    </tr>\n",
       "    <tr>\n",
       "      <th>4</th>\n",
       "      <td>135333</td>\n",
       "      <td>530034.517220</td>\n",
       "      <td>535069</td>\n",
       "      <td>6.876668e+06</td>\n",
       "    </tr>\n",
       "    <tr>\n",
       "      <th>24</th>\n",
       "      <td>135856</td>\n",
       "      <td>527509.393259</td>\n",
       "      <td>538276</td>\n",
       "      <td>6.864674e+06</td>\n",
       "    </tr>\n",
       "    <tr>\n",
       "      <th>26</th>\n",
       "      <td>135832</td>\n",
       "      <td>527532.994054</td>\n",
       "      <td>534913</td>\n",
       "      <td>6.860584e+06</td>\n",
       "    </tr>\n",
       "    <tr>\n",
       "      <th>27</th>\n",
       "      <td>136044</td>\n",
       "      <td>526274.469371</td>\n",
       "      <td>536292</td>\n",
       "      <td>6.849608e+06</td>\n",
       "    </tr>\n",
       "    <tr>\n",
       "      <th>7</th>\n",
       "      <td>135337</td>\n",
       "      <td>530240.594566</td>\n",
       "      <td>535584</td>\n",
       "      <td>6.848542e+06</td>\n",
       "    </tr>\n",
       "    <tr>\n",
       "      <th>25</th>\n",
       "      <td>134688</td>\n",
       "      <td>525381.948429</td>\n",
       "      <td>536121</td>\n",
       "      <td>6.829725e+06</td>\n",
       "    </tr>\n",
       "    <tr>\n",
       "      <th>20</th>\n",
       "      <td>135034</td>\n",
       "      <td>520289.422656</td>\n",
       "      <td>531336</td>\n",
       "      <td>6.814861e+06</td>\n",
       "    </tr>\n",
       "    <tr>\n",
       "      <th>5</th>\n",
       "      <td>134641</td>\n",
       "      <td>525425.915237</td>\n",
       "      <td>534825</td>\n",
       "      <td>6.804852e+06</td>\n",
       "    </tr>\n",
       "    <tr>\n",
       "      <th>9</th>\n",
       "      <td>134162</td>\n",
       "      <td>523553.926990</td>\n",
       "      <td>534290</td>\n",
       "      <td>6.788857e+06</td>\n",
       "    </tr>\n",
       "    <tr>\n",
       "      <th>28</th>\n",
       "      <td>133786</td>\n",
       "      <td>523709.701780</td>\n",
       "      <td>533363</td>\n",
       "      <td>6.785687e+06</td>\n",
       "    </tr>\n",
       "    <tr>\n",
       "      <th>3</th>\n",
       "      <td>133645</td>\n",
       "      <td>514985.657185</td>\n",
       "      <td>524022</td>\n",
       "      <td>6.760871e+06</td>\n",
       "    </tr>\n",
       "    <tr>\n",
       "      <th>16</th>\n",
       "      <td>134834</td>\n",
       "      <td>518317.935054</td>\n",
       "      <td>530269</td>\n",
       "      <td>6.758989e+06</td>\n",
       "    </tr>\n",
       "    <tr>\n",
       "      <th>11</th>\n",
       "      <td>133965</td>\n",
       "      <td>521313.979288</td>\n",
       "      <td>531476</td>\n",
       "      <td>6.755593e+06</td>\n",
       "    </tr>\n",
       "    <tr>\n",
       "      <th>23</th>\n",
       "      <td>134732</td>\n",
       "      <td>525532.755261</td>\n",
       "      <td>537265</td>\n",
       "      <td>6.752441e+06</td>\n",
       "    </tr>\n",
       "    <tr>\n",
       "      <th>6</th>\n",
       "      <td>133647</td>\n",
       "      <td>520440.731424</td>\n",
       "      <td>529177</td>\n",
       "      <td>6.751476e+06</td>\n",
       "    </tr>\n",
       "    <tr>\n",
       "      <th>18</th>\n",
       "      <td>132578</td>\n",
       "      <td>517041.066137</td>\n",
       "      <td>524164</td>\n",
       "      <td>6.748784e+06</td>\n",
       "    </tr>\n",
       "    <tr>\n",
       "      <th>2</th>\n",
       "      <td>132697</td>\n",
       "      <td>520924.315515</td>\n",
       "      <td>529790</td>\n",
       "      <td>6.747983e+06</td>\n",
       "    </tr>\n",
       "    <tr>\n",
       "      <th>14</th>\n",
       "      <td>132940</td>\n",
       "      <td>518812.635368</td>\n",
       "      <td>528782</td>\n",
       "      <td>6.736303e+06</td>\n",
       "    </tr>\n",
       "    <tr>\n",
       "      <th>10</th>\n",
       "      <td>133114</td>\n",
       "      <td>517467.331446</td>\n",
       "      <td>528732</td>\n",
       "      <td>6.736284e+06</td>\n",
       "    </tr>\n",
       "    <tr>\n",
       "      <th>21</th>\n",
       "      <td>132274</td>\n",
       "      <td>516555.411361</td>\n",
       "      <td>525234</td>\n",
       "      <td>6.730782e+06</td>\n",
       "    </tr>\n",
       "    <tr>\n",
       "      <th>8</th>\n",
       "      <td>132338</td>\n",
       "      <td>517299.192776</td>\n",
       "      <td>523819</td>\n",
       "      <td>6.724594e+06</td>\n",
       "    </tr>\n",
       "    <tr>\n",
       "      <th>15</th>\n",
       "      <td>135070</td>\n",
       "      <td>515478.767466</td>\n",
       "      <td>531486</td>\n",
       "      <td>6.723664e+06</td>\n",
       "    </tr>\n",
       "    <tr>\n",
       "      <th>1</th>\n",
       "      <td>132751</td>\n",
       "      <td>514608.262273</td>\n",
       "      <td>525341</td>\n",
       "      <td>6.674995e+06</td>\n",
       "    </tr>\n",
       "  </tbody>\n",
       "</table>\n",
       "</div>"
      ],
      "text/plain": [
       "         quantity          price     age       revenue\n",
       "feb_day                                               \n",
       "17         137027  530475.022946  538100  6.940403e+06\n",
       "12         135641  530605.582295  535424  6.934706e+06\n",
       "19         135560  524490.935149  531767  6.900267e+06\n",
       "22         136170  529586.278632  537302  6.891117e+06\n",
       "13         134688  530620.462200  536967  6.882027e+06\n",
       "4          135333  530034.517220  535069  6.876668e+06\n",
       "24         135856  527509.393259  538276  6.864674e+06\n",
       "26         135832  527532.994054  534913  6.860584e+06\n",
       "27         136044  526274.469371  536292  6.849608e+06\n",
       "7          135337  530240.594566  535584  6.848542e+06\n",
       "25         134688  525381.948429  536121  6.829725e+06\n",
       "20         135034  520289.422656  531336  6.814861e+06\n",
       "5          134641  525425.915237  534825  6.804852e+06\n",
       "9          134162  523553.926990  534290  6.788857e+06\n",
       "28         133786  523709.701780  533363  6.785687e+06\n",
       "3          133645  514985.657185  524022  6.760871e+06\n",
       "16         134834  518317.935054  530269  6.758989e+06\n",
       "11         133965  521313.979288  531476  6.755593e+06\n",
       "23         134732  525532.755261  537265  6.752441e+06\n",
       "6          133647  520440.731424  529177  6.751476e+06\n",
       "18         132578  517041.066137  524164  6.748784e+06\n",
       "2          132697  520924.315515  529790  6.747983e+06\n",
       "14         132940  518812.635368  528782  6.736303e+06\n",
       "10         133114  517467.331446  528732  6.736284e+06\n",
       "21         132274  516555.411361  525234  6.730782e+06\n",
       "8          132338  517299.192776  523819  6.724594e+06\n",
       "15         135070  515478.767466  531486  6.723664e+06\n",
       "1          132751  514608.262273  525341  6.674995e+06"
      ]
     },
     "execution_count": 75,
     "metadata": {},
     "output_type": "execute_result"
    }
   ],
   "source": [
    "#code and thought process here\n",
    "merged.groupby('feb_day').sum().sort_values(by=['revenue'], ascending=False)"
   ]
  },
  {
   "cell_type": "code",
   "execution_count": null,
   "metadata": {},
   "outputs": [],
   "source": [
    "# confirmed that this 17th is highest revenue"
   ]
  },
  {
   "cell_type": "markdown",
   "metadata": {},
   "source": [
    "&nbsp;\n",
    "\n",
    "### 2.9-  [5]"
   ]
  },
  {
   "cell_type": "code",
   "execution_count": 76,
   "metadata": {},
   "outputs": [
    {
     "data": {
      "text/html": [
       "<div>\n",
       "<style scoped>\n",
       "    .dataframe tbody tr th:only-of-type {\n",
       "        vertical-align: middle;\n",
       "    }\n",
       "\n",
       "    .dataframe tbody tr th {\n",
       "        vertical-align: top;\n",
       "    }\n",
       "\n",
       "    .dataframe thead th {\n",
       "        text-align: right;\n",
       "    }\n",
       "</style>\n",
       "<table border=\"1\" class=\"dataframe\">\n",
       "  <thead>\n",
       "    <tr style=\"text-align: right;\">\n",
       "      <th></th>\n",
       "      <th>empl_name</th>\n",
       "      <th>revenue</th>\n",
       "      <th>product_name</th>\n",
       "    </tr>\n",
       "  </thead>\n",
       "  <tbody>\n",
       "    <tr>\n",
       "      <th>0</th>\n",
       "      <td>Bernard L Moody</td>\n",
       "      <td>324729.204544</td>\n",
       "      <td>Wine - White, Colubia Cresh</td>\n",
       "    </tr>\n",
       "    <tr>\n",
       "      <th>1</th>\n",
       "      <td>Wendi G Buckley</td>\n",
       "      <td>320927.964263</td>\n",
       "      <td>Beef - Chuck, Boneless</td>\n",
       "    </tr>\n",
       "    <tr>\n",
       "      <th>2</th>\n",
       "      <td>Shelby P Riddle</td>\n",
       "      <td>319454.006446</td>\n",
       "      <td>Fuji Apples</td>\n",
       "    </tr>\n",
       "    <tr>\n",
       "      <th>3</th>\n",
       "      <td>Janet K Flowers</td>\n",
       "      <td>318545.967644</td>\n",
       "      <td>Spoon - Soup, Plastic</td>\n",
       "    </tr>\n",
       "    <tr>\n",
       "      <th>4</th>\n",
       "      <td>Christine W Palmer</td>\n",
       "      <td>317147.200246</td>\n",
       "      <td>Chocolate - Compound Coating</td>\n",
       "    </tr>\n",
       "    <tr>\n",
       "      <th>5</th>\n",
       "      <td>Katina Y Marks</td>\n",
       "      <td>316508.950710</td>\n",
       "      <td>Tea - Earl Grey</td>\n",
       "    </tr>\n",
       "    <tr>\n",
       "      <th>6</th>\n",
       "      <td>Desiree L Stuart</td>\n",
       "      <td>314800.845478</td>\n",
       "      <td>Table Cloth 62x114 White</td>\n",
       "    </tr>\n",
       "    <tr>\n",
       "      <th>7</th>\n",
       "      <td>Tonia O Mc Millan</td>\n",
       "      <td>313388.477349</td>\n",
       "      <td>Pasta - Angel Hair</td>\n",
       "    </tr>\n",
       "    <tr>\n",
       "      <th>8</th>\n",
       "      <td>Pablo Y Cline</td>\n",
       "      <td>311529.780717</td>\n",
       "      <td>Sherry - Dry</td>\n",
       "    </tr>\n",
       "    <tr>\n",
       "      <th>9</th>\n",
       "      <td>Lindsay M Chen</td>\n",
       "      <td>303589.392568</td>\n",
       "      <td>Scallop - St. Jaques</td>\n",
       "    </tr>\n",
       "    <tr>\n",
       "      <th>10</th>\n",
       "      <td>Darnell O Nielsen</td>\n",
       "      <td>301797.748366</td>\n",
       "      <td>V8 - Berry Blend</td>\n",
       "    </tr>\n",
       "    <tr>\n",
       "      <th>11</th>\n",
       "      <td>Jean P Vang</td>\n",
       "      <td>299989.623617</td>\n",
       "      <td>Lamb - Whole, Fresh</td>\n",
       "    </tr>\n",
       "    <tr>\n",
       "      <th>12</th>\n",
       "      <td>Sonya E Dickson</td>\n",
       "      <td>298999.473688</td>\n",
       "      <td>Veal - Eye Of Round</td>\n",
       "    </tr>\n",
       "    <tr>\n",
       "      <th>13</th>\n",
       "      <td>Seth D Franco</td>\n",
       "      <td>298145.619766</td>\n",
       "      <td>Squid - Tubes / Tenticles 10/20</td>\n",
       "    </tr>\n",
       "    <tr>\n",
       "      <th>14</th>\n",
       "      <td>Devon D Brewer</td>\n",
       "      <td>297037.741834</td>\n",
       "      <td>Puree - Passion Fruit</td>\n",
       "    </tr>\n",
       "    <tr>\n",
       "      <th>15</th>\n",
       "      <td>Chadwick U Walton</td>\n",
       "      <td>295942.222361</td>\n",
       "      <td>Wine - Chablis 2003 Champs</td>\n",
       "    </tr>\n",
       "    <tr>\n",
       "      <th>16</th>\n",
       "      <td>Kari D Finley</td>\n",
       "      <td>295200.028244</td>\n",
       "      <td>Olives - Stuffed</td>\n",
       "    </tr>\n",
       "    <tr>\n",
       "      <th>17</th>\n",
       "      <td>Chadwick P Cook</td>\n",
       "      <td>294495.656341</td>\n",
       "      <td>Oranges - Navel, 72</td>\n",
       "    </tr>\n",
       "    <tr>\n",
       "      <th>18</th>\n",
       "      <td>Warren C Bartlett</td>\n",
       "      <td>288634.980673</td>\n",
       "      <td>Duck - Breast</td>\n",
       "    </tr>\n",
       "    <tr>\n",
       "      <th>19</th>\n",
       "      <td>Holly E Collins</td>\n",
       "      <td>284530.491356</td>\n",
       "      <td>Garlic - Primerba, Paste</td>\n",
       "    </tr>\n",
       "    <tr>\n",
       "      <th>20</th>\n",
       "      <td>Nicole T Fuller</td>\n",
       "      <td>281443.808285</td>\n",
       "      <td>Mangoes</td>\n",
       "    </tr>\n",
       "    <tr>\n",
       "      <th>21</th>\n",
       "      <td>Daphne X King</td>\n",
       "      <td>277349.069829</td>\n",
       "      <td>Wine - Wyndham Estate Bin 777</td>\n",
       "    </tr>\n",
       "    <tr>\n",
       "      <th>22</th>\n",
       "      <td>Julie E Dyer</td>\n",
       "      <td>266214.808449</td>\n",
       "      <td>Salmon - Sockeye Raw</td>\n",
       "    </tr>\n",
       "  </tbody>\n",
       "</table>\n",
       "</div>"
      ],
      "text/plain": [
       "             empl_name        revenue                     product_name\n",
       "0      Bernard L Moody  324729.204544      Wine - White, Colubia Cresh\n",
       "1      Wendi G Buckley  320927.964263           Beef - Chuck, Boneless\n",
       "2      Shelby P Riddle  319454.006446                      Fuji Apples\n",
       "3      Janet K Flowers  318545.967644            Spoon - Soup, Plastic\n",
       "4   Christine W Palmer  317147.200246     Chocolate - Compound Coating\n",
       "5       Katina Y Marks  316508.950710                  Tea - Earl Grey\n",
       "6     Desiree L Stuart  314800.845478         Table Cloth 62x114 White\n",
       "7    Tonia O Mc Millan  313388.477349               Pasta - Angel Hair\n",
       "8        Pablo Y Cline  311529.780717                     Sherry - Dry\n",
       "9       Lindsay M Chen  303589.392568             Scallop - St. Jaques\n",
       "10   Darnell O Nielsen  301797.748366                 V8 - Berry Blend\n",
       "11         Jean P Vang  299989.623617              Lamb - Whole, Fresh\n",
       "12     Sonya E Dickson  298999.473688              Veal - Eye Of Round\n",
       "13       Seth D Franco  298145.619766  Squid - Tubes / Tenticles 10/20\n",
       "14      Devon D Brewer  297037.741834            Puree - Passion Fruit\n",
       "15   Chadwick U Walton  295942.222361       Wine - Chablis 2003 Champs\n",
       "16       Kari D Finley  295200.028244                 Olives - Stuffed\n",
       "17     Chadwick P Cook  294495.656341              Oranges - Navel, 72\n",
       "18   Warren C Bartlett  288634.980673                    Duck - Breast\n",
       "19     Holly E Collins  284530.491356         Garlic - Primerba, Paste\n",
       "20     Nicole T Fuller  281443.808285                          Mangoes\n",
       "21       Daphne X King  277349.069829    Wine - Wyndham Estate Bin 777\n",
       "22        Julie E Dyer  266214.808449             Salmon - Sockeye Raw"
      ]
     },
     "execution_count": 76,
     "metadata": {},
     "output_type": "execute_result"
    }
   ],
   "source": [
    "#Using the feb_day column for 17th I grouped by employee_name and aggregate the sum to sort the values by revenue \n",
    "merged[merged['feb_day'] == 17].groupby('empl_name').agg({'revenue': 'sum', 'product_name' : 'first'}).sort_values(by = 'revenue', ascending=False).reset_index()"
   ]
  },
  {
   "cell_type": "markdown",
   "metadata": {},
   "source": [
    "&nbsp;\n",
    "\n",
    "### 2.10- [6]\n"
   ]
  },
  {
   "cell_type": "code",
   "execution_count": 77,
   "metadata": {},
   "outputs": [
    {
     "data": {
      "text/plain": [
       "<AxesSubplot: xlabel='feb_day'>"
      ]
     },
     "execution_count": 77,
     "metadata": {},
     "output_type": "execute_result"
    },
    {
     "data": {
      "image/png": "[encoded data removed]",
      "text/plain": [
       "<Figure size 640x480 with 1 Axes>"
      ]
     },
     "metadata": {},
     "output_type": "display_data"
    }
   ],
   "source": [
    "#code and thought process here\n",
    "bernard_sales = merged[merged['empl_name'].str.contains('Bernard L Moody')].groupby('feb_day').agg({'revenue': 'sum'}).sort_values(by = 'feb_day', ascending=True).reset_index()\n",
    "bernard_sales.set_index('feb_day').plot()"
   ]
  },
  {
   "cell_type": "markdown",
   "metadata": {},
   "source": [
    "End of Question 2"
   ]
  },
  {
   "cell_type": "markdown",
   "metadata": {},
   "source": [
    "&nbsp;\n",
    "\n",
    "&nbsp;\n",
    "\n",
    "\n",
    "## Question 3 [17]\n",
    "\n",
    "Text processing and Regular Expression"
   ]
  },
  {
   "cell_type": "markdown",
   "metadata": {},
   "source": [
    "### 3.1-  [4]"
   ]
  },
  {
   "cell_type": "code",
   "execution_count": 53,
   "metadata": {},
   "outputs": [],
   "source": [
    "string_list = ['store','sterling','group','migration','ingrid','extinguish','elaborate','coins','marching','calling',\\\n",
    "               'fingers','card','slow','eating','entertaining','marksmanship','loitering','distinguis']"
   ]
  },
  {
   "cell_type": "code",
   "execution_count": 54,
   "metadata": {},
   "outputs": [
    {
     "data": {
      "text/plain": [
       "['store',\n",
       " 'sterling',\n",
       " 'group',\n",
       " 'migration',\n",
       " 'ingrid',\n",
       " 'elaborate',\n",
       " 'coins',\n",
       " 'marching',\n",
       " 'calling',\n",
       " 'card',\n",
       " 'slow',\n",
       " 'eating',\n",
       " 'entertaining',\n",
       " 'marksmanship',\n",
       " 'loitering']"
      ]
     },
     "execution_count": 54,
     "metadata": {},
     "output_type": "execute_result"
    }
   ],
   "source": [
    "#I am traversing the list and wherever i see 'ing' not in the middle i filter it out \n",
    "ans = []\n",
    "filtered_list = []  \n",
    "for s in string_list:\n",
    "    ans.append(s[1:-1])\n",
    "    \n",
    "for x in range(len(ans)):\n",
    "    if 'ing' not in ans[x]:\n",
    "        filtered_list.append(string_list[x])\n",
    "filtered_list"
   ]
  },
  {
   "cell_type": "markdown",
   "metadata": {},
   "source": [
    "&nbsp;\n",
    "\n",
    "### 3.2-  [5]"
   ]
  },
  {
   "cell_type": "code",
   "execution_count": 78,
   "metadata": {},
   "outputs": [],
   "source": [
    "phrase =\\\n",
    "[\"Th?/e\\ Zen o]}f Py';;th7on, by T+i==m P9**et+ers\"\n",
    ",\"Bea;uti(ful) i--_s bet121t5er6 ;than ugly.\"\n",
    ",\"Exp'lic]]>it is <b>et*+t;er t*h_an im__...pl.i.c.i.-t.\"\n",
    ",\"Sim_)p'le i96s b'et'te\\\"r than co-m-pl5e,x.\"\n",
    ",\"C[om;ple])x\\\" is b{{et<>ter th*an compli}cated.\"]"
   ]
  },
  {
   "cell_type": "code",
   "execution_count": 79,
   "metadata": {},
   "outputs": [
    {
     "name": "stdout",
     "output_type": "stream",
     "text": [
      "The Zen of Python by Tim Peters\n",
      "Beautiful is better than ugly\n",
      "Explicit is better than implicit\n",
      "Simple is better than complex\n",
      "Complex is better than complicated\n"
     ]
    }
   ],
   "source": [
    "# we are using regex ftoi find the pattern of alpha numeric to substitute the empty space \n",
    "import re\n",
    "ans = []\n",
    "for sentence in phrase:\n",
    "    \n",
    "    sentence = re.sub(r'[^a-zA-Z ]', '', sentence)\n",
    "    print(sentence)\n",
    "    ans.append(sentence)"
   ]
  },
  {
   "cell_type": "markdown",
   "metadata": {},
   "source": [
    "&nbsp;\n",
    "\n",
    "### 3.3-  [5]"
   ]
  },
  {
   "cell_type": "code",
   "execution_count": null,
   "metadata": {},
   "outputs": [],
   "source": [
    "ips = ['152.221.365','446.457.441',\n",
    "       '556.125.985.468', 'KM4.54B.32T', \n",
    "       '550.5980987', '131.332.214', \n",
    "       '48.221.365', '1524685410',\n",
    "       '465.845.16R', '465.']"
   ]
  },
  {
   "cell_type": "code",
   "execution_count": null,
   "metadata": {},
   "outputs": [],
   "source": [
    "# We will first create a regex statement to check if the right IP Address format is followed:\n",
    "\n",
    "regex = \"^((25[0-5]|2[0-4][0-9]|1[0-9][0-9]|[1-9]?[0-9])\\.){3}(25[0-5]|2[0-4][0-9]|1[0-9][0-9]|[1-9]?[0-9])$\"\n",
    "valid_IPs = []\n",
    "\n",
    "\n",
    "for ip_add in ips:\n",
    "    #print(ip_add)\n",
    "    if re.findall(\"[0-9]+[0-9]+[0-9]+\\.+[0-9]+[0-9]+[0-9]+\\.[0-9]+[0-9]+[0-9]\", ip_add):\n",
    "        valid_IPs.append(ip_add)\n",
    "    \n",
    "print(valid_IPs)"
   ]
  },
  {
   "cell_type": "markdown",
   "metadata": {},
   "source": [
    "&nbsp;\n",
    "\n",
    "### 3.4- [2]"
   ]
  },
  {
   "cell_type": "code",
   "execution_count": 87,
   "metadata": {},
   "outputs": [],
   "source": [
    "g = [\"a\"]"
   ]
  },
  {
   "cell_type": "code",
   "execution_count": 88,
   "metadata": {},
   "outputs": [
    {
     "data": {
      "text/plain": [
       "['append',\n",
       " 'clear',\n",
       " 'copy',\n",
       " 'count',\n",
       " 'extend',\n",
       " 'index',\n",
       " 'insert',\n",
       " 'pop',\n",
       " 'remove',\n",
       " 'reverse',\n",
       " 'sort']"
      ]
     },
     "execution_count": 88,
     "metadata": {},
     "output_type": "execute_result"
    }
   ],
   "source": [
    "#code and thought process here\n",
    "def func_text(obj):\n",
    "    return [y for y in dir(obj) if not y.startswith('__')]\n",
    "\n",
    "func_text(g)"
   ]
  },
  {
   "cell_type": "markdown",
   "metadata": {},
   "source": [
    "End of Question 3"
   ]
  },
  {
   "cell_type": "markdown",
   "metadata": {},
   "source": [
    "### 4.1- [6]"
   ]
  },
  {
   "cell_type": "code",
   "execution_count": 43,
   "metadata": {},
   "outputs": [],
   "source": [
    "import numpy as np\n",
    "import matplotlib.pyplot as plt\n",
    "import os\n",
    "import pandas as pd\n",
    "import pickle\n",
    "%matplotlib inline\n",
    "\n",
    "\n",
    "with open('random_var_1.pkl', 'rb') as f_1:\n",
    "    data_1 = pickle.load(f_1)\n",
    "\n",
    "with open('random_var_2.pkl', 'rb') as f_2:\n",
    "    data_2 = pickle.load(f_2)"
   ]
  },
  {
   "cell_type": "markdown",
   "metadata": {},
   "source": [
    "&nbsp;\n",
    "\n",
    "### 4.2- [6]"
   ]
  },
  {
   "cell_type": "code",
   "execution_count": 44,
   "metadata": {},
   "outputs": [
    {
     "data": {
      "image/png": "[encoded data removed]",
      "text/plain": [
       "<Figure size 1000x1000 with 1 Axes>"
      ]
     },
     "metadata": {},
     "output_type": "display_data"
    }
   ],
   "source": [
    "#code and thought process here\n",
    "fig, ax = plt.subplots(figsize = (10, 10))\n",
    "ax.hist(data_1)\n",
    "plt.show()"
   ]
  },
  {
   "cell_type": "code",
   "execution_count": 45,
   "metadata": {},
   "outputs": [
    {
     "data": {
      "image/png": "[encoded data removed]",
      "text/plain": [
       "<Figure size 1000x1000 with 1 Axes>"
      ]
     },
     "metadata": {},
     "output_type": "display_data"
    }
   ],
   "source": [
    "fig, ax = plt.subplots(figsize = (10, 10))\n",
    "ax.hist(data_2)\n",
    "plt.show()"
   ]
  },
  {
   "cell_type": "markdown",
   "metadata": {},
   "source": [
    "&nbsp;\n",
    "\n",
    "### 4.3- [7]"
   ]
  },
  {
   "cell_type": "code",
   "execution_count": 81,
   "metadata": {},
   "outputs": [
    {
     "data": {
      "text/plain": [
       "KstestResult(statistic=0.0681, pvalue=1.3981651773175553e-20)"
      ]
     },
     "execution_count": 81,
     "metadata": {},
     "output_type": "execute_result"
    }
   ],
   "source": [
    "#Standardising the distributions and checking if they are from the same distribution\n",
    "from scipy.stats import ks_2samp\n",
    "from sklearn import preprocessing\n",
    "scale_rand_1 = preprocessing.scale(data_1)\n",
    "scale_rand_2 = preprocessing.scale(data_2)\n",
    "ks_2samp(scale_rand_1, scale_rand_2)\n"
   ]
  },
  {
   "cell_type": "code",
   "execution_count": null,
   "metadata": {},
   "outputs": [],
   "source": [
    "#since pvalue is low we reject null hypothesis, they are not from the same distributions"
   ]
  },
  {
   "cell_type": "markdown",
   "metadata": {},
   "source": [
    "&nbsp;\n",
    "\n",
    "### 4.4- [6]"
   ]
  },
  {
   "cell_type": "code",
   "execution_count": 85,
   "metadata": {},
   "outputs": [
    {
     "data": {
      "text/plain": [
       "KstestResult(statistic=0.006737981354638212, pvalue=0.7516087755410982)"
      ]
     },
     "execution_count": 85,
     "metadata": {},
     "output_type": "execute_result"
    }
   ],
   "source": [
    "#Checking if it's a normal distribution\n",
    "from scipy.stats import kstest\n",
    "kstest(scale_rand_1, 'norm')"
   ]
  },
  {
   "cell_type": "code",
   "execution_count": null,
   "metadata": {},
   "outputs": [],
   "source": [
    "#Pvalue is high and hence we fail to reject the null hypothesis"
   ]
  },
  {
   "cell_type": "code",
   "execution_count": 46,
   "metadata": {},
   "outputs": [
    {
     "data": {
      "text/plain": [
       "KstestResult(statistic=0.01038796700213318, pvalue=0.22912446043898493)"
      ]
     },
     "execution_count": 46,
     "metadata": {},
     "output_type": "execute_result"
    }
   ],
   "source": [
    "\n",
    "from scipy.stats import kstest\n",
    "kstest(data_2,'chi2', [7])\n",
    "\n",
    "#Lack of evidence to reject the null as we have a high p-value.\n",
    "#Therefore, the second random variable, data_2, is a chi-squared distribution with 7 degrees of freedom"
   ]
  },
  {
   "cell_type": "markdown",
   "metadata": {},
   "source": [
    "&nbsp;\n",
    "\n",
    "Copyright © 2020 | Hussam Almuayad"
   ]
  },
  {
   "cell_type": "code",
   "execution_count": null,
   "metadata": {},
   "outputs": [],
   "source": []
  }
 ],
 "metadata": {
  "kernelspec": {
   "display_name": "Python 3.9.6 64-bit",
   "language": "python",
   "name": "python3"
  },
  "language_info": {
   "codemirror_mode": {
    "name": "ipython",
    "version": 3
   },
   "file_extension": ".py",
   "mimetype": "text/x-python",
   "name": "python",
   "nbconvert_exporter": "python",
   "pygments_lexer": "ipython3",
   "version": "3.9.6"
  },
  "vscode": {
   "interpreter": {
    "hash": "31f2aee4e71d21fbe5cf8b01ff0e069b9275f58929596ceb00d14d90e3e16cd6"
   }
  }
 },
 "nbformat": 4,
 "nbformat_minor": 4
}
